{
 "cells": [
  {
   "cell_type": "code",
   "execution_count": 8,
   "id": "eefa4449",
   "metadata": {},
   "outputs": [
    {
     "name": "stderr",
     "output_type": "stream",
     "text": [
      "/var/folders/7g/n_c_1w8j6nq8cmbcbnl7mpcc0000gn/T/ipykernel_7350/4238406504.py:30: FutureWarning: Downcasting object dtype arrays on .fillna, .ffill, .bfill is deprecated and will change in a future version. Call result.infer_objects(copy=False) instead. To opt-in to the future behavior, set `pd.set_option('future.no_silent_downcasting', True)`\n",
      "  europe_emissions = europe.merge(emissions_df, how='left', on='ADMIN').fillna(0)\n"
     ]
    },
    {
     "data": {
      "application/vnd.jupyter.widget-view+json": {
       "model_id": "4495843038e1487c84d66db16b9635e7",
       "version_major": 2,
       "version_minor": 0
      },
      "text/plain": [
       "Map(center=[54.0, 15.0], controls=(ZoomControl(options=['position', 'zoom_in_text', 'zoom_in_title', 'zoom_out…"
      ]
     },
     "execution_count": 8,
     "metadata": {},
     "output_type": "execute_result"
    }
   ],
   "source": [
    "import geopandas as gpd\n",
    "import pandas as pd\n",
    "from ipyleaflet import Map, GeoJSON, WidgetControl\n",
    "import ipywidgets as widgets\n",
    "\n",
    "# Shapefile laden\n",
    "world = gpd.read_file(\"./data/ne_110m_admin_0_countries/ne_110m_admin_0_countries.shp\")\n",
    "europe = world[world['CONTINENT'] == 'Europe']\n",
    "\n",
    "# CSV laden und bereinigen\n",
    "df = pd.read_csv(\"./data/assets/Co2_Stats.csv\", sep='\\t', encoding='utf-16')\n",
    "df = df.rename(columns={'Country': 'ADMIN', 'Jahr von Date': 'year', 't CO2 equivalent': 'co2'})\n",
    "df['co2'] = df['co2'].str.replace('.', '', regex=False).astype(float)\n",
    "df['year'] = df['year'].astype(int)\n",
    "\n",
    "# Länder-Namen ggf. anpassen (Mapping vor Pivot!)\n",
    "country_name_map = {\n",
    "    \"Czechia\": \"Czech Republic\",\n",
    "    \"Slovakia\": \"Slovak Republic\",\n",
    "    \"Bosnia and Herzegovina\": \"Bosnia and Herz.\",\n",
    "    \"North Macedonia\": \"Macedonia\",\n",
    "    \"Russia\": \"Russian Federation\"\n",
    "}\n",
    "df['ADMIN'] = df['ADMIN'].replace(country_name_map)\n",
    "\n",
    "# Pivot: eine Zeile pro Land, Spalten für Jahre\n",
    "emissions_df = df.pivot(index='ADMIN', columns='year', values='co2').reset_index()\n",
    "\n",
    "# Merge mit Shapefile\n",
    "europe_emissions = europe.merge(emissions_df, how='left', on='ADMIN').fillna(0)\n",
    "\n",
    "# GeoJSON-Style-Funktion\n",
    "def get_geojson(year):\n",
    "    def style_callback(feature):\n",
    "        admin = feature['properties']['ADMIN']\n",
    "        value = emissions_df.loc[emissions_df['ADMIN'] == admin, year].values\n",
    "        emission = value[0] if len(value) else 0\n",
    "        max_emission = emissions_df[year].max() if emissions_df[year].max() > 0 else 1\n",
    "        intensity = min(emission / max_emission, 1.0)\n",
    "        color = f\"rgba(255, 0, 0, {intensity})\"\n",
    "        return {\n",
    "            'fillColor': color,\n",
    "            'color': 'black',\n",
    "            'weight': 1,\n",
    "            'fillOpacity': 0.7,\n",
    "        }\n",
    "    return GeoJSON(\n",
    "        data=europe_emissions.__geo_interface__,\n",
    "        style_callback=style_callback,\n",
    "        name=f\"CO₂ Emissionen {year}\"\n",
    "    )\n",
    "\n",
    "# Map und Dropdown\n",
    "center = [54.0, 15.0]\n",
    "m = Map(center=center, zoom=4)\n",
    "\n",
    "# Jahre aus den Daten dynamisch holen\n",
    "years = sorted([col for col in emissions_df.columns if isinstance(col, int)])\n",
    "\n",
    "layer_ref = [get_geojson(years[0])]\n",
    "m.add_layer(layer_ref[0])\n",
    "\n",
    "dropdown = widgets.Dropdown(\n",
    "    options=[(str(y), y) for y in years],\n",
    "    value=years[0],\n",
    "    description='Jahr:',\n",
    ")\n",
    "\n",
    "def on_change(change):\n",
    "    if change['type'] == 'change' and change['name'] == 'value':\n",
    "        m.remove_layer(layer_ref[0])\n",
    "        new_layer = get_geojson(change['new'])\n",
    "        m.add_layer(new_layer)\n",
    "        layer_ref[0] = new_layer\n",
    "\n",
    "dropdown.observe(on_change)\n",
    "\n",
    "control = WidgetControl(widget=dropdown, position='topright')\n",
    "m.add_control(control)\n",
    "\n",
    "m"
   ]
  },
  {
   "cell_type": "code",
   "execution_count": 10,
   "id": "b3937045",
   "metadata": {},
   "outputs": [
    {
     "name": "stdout",
     "output_type": "stream",
     "text": [
      "Englische Ländernamen aus der Geodaten-Spalte 'ADMIN':\n",
      "Albania\n",
      "Austria\n",
      "Belarus\n",
      "Belgium\n",
      "Bosnia and Herzegovina\n",
      "Bulgaria\n",
      "Croatia\n",
      "Czechia\n",
      "Denmark\n",
      "Estonia\n",
      "Finland\n",
      "France\n",
      "Germany\n",
      "Greece\n",
      "Hungary\n",
      "Iceland\n",
      "Ireland\n",
      "Italy\n",
      "Kosovo\n",
      "Latvia\n",
      "Lithuania\n",
      "Luxembourg\n",
      "Moldova\n",
      "Montenegro\n",
      "Netherlands\n",
      "North Macedonia\n",
      "Norway\n",
      "Poland\n",
      "Portugal\n",
      "Republic of Serbia\n",
      "Romania\n",
      "Russia\n",
      "Slovakia\n",
      "Slovenia\n",
      "Spain\n",
      "Sweden\n",
      "Switzerland\n",
      "Ukraine\n",
      "United Kingdom\n"
     ]
    }
   ],
   "source": [
    "import geopandas as gpd\n",
    "\n",
    "# Shapefile laden\n",
    "world = gpd.read_file(\"./data/ne_110m_admin_0_countries/ne_110m_admin_0_countries.shp\")\n",
    "europe = world[world['CONTINENT'] == 'Europe']\n",
    "\n",
    "# Englische Ländernamen ausgeben (Spalte 'ADMIN')\n",
    "geo_names = sorted(europe['ADMIN'].unique())\n",
    "print(\"Englische Ländernamen aus der Geodaten-Spalte 'ADMIN':\")\n",
    "for name in geo_names:\n",
    "    print(name)\n",
    "    "
   ]
  }
 ],
 "metadata": {
  "kernelspec": {
   "display_name": "Python 3",
   "language": "python",
   "name": "python3"
  },
  "language_info": {
   "codemirror_mode": {
    "name": "ipython",
    "version": 3
   },
   "file_extension": ".py",
   "mimetype": "text/x-python",
   "name": "python",
   "nbconvert_exporter": "python",
   "pygments_lexer": "ipython3",
   "version": "3.9.6"
  }
 },
 "nbformat": 4,
 "nbformat_minor": 5
}
