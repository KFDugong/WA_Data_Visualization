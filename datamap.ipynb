{
 "cells": [
  {
   "cell_type": "code",
   "execution_count": null,
   "id": "24eada0b",
   "metadata": {},
   "outputs": [],
   "source": [
    "%pip install geopandas matplotlib plotly nbformat notebook ipywidgets ipyleaflet"
   ]
  },
  {
   "cell_type": "code",
   "execution_count": 9,
   "id": "77d0f10a",
   "metadata": {},
   "outputs": [
    {
     "name": "stderr",
     "output_type": "stream",
     "text": [
      "/var/folders/7z/jv8k1cd909v27l8ndwlg06g80000gn/T/ipykernel_97654/459343731.py:48: FutureWarning: Downcasting object dtype arrays on .fillna, .ffill, .bfill is deprecated and will change in a future version. Call result.infer_objects(copy=False) instead. To opt-in to the future behavior, set `pd.set_option('future.no_silent_downcasting', True)`\n",
      "  europe_emissions = europe.merge(emissions_df, how='left', on='ADMIN').fillna(0)\n"
     ]
    },
    {
     "data": {
      "application/vnd.jupyter.widget-view+json": {
       "model_id": "af221eca64514d12b3696a179f91ef62",
       "version_major": 2,
       "version_minor": 0
      },
      "text/plain": [
       "Map(center=[54.0, 15.0], controls=(ZoomControl(options=['position', 'zoom_in_text', 'zoom_in_title', 'zoom_out…"
      ]
     },
     "execution_count": 9,
     "metadata": {},
     "output_type": "execute_result"
    }
   ],
   "source": [
    "import geopandas as gpd\n",
    "import pandas as pd\n",
    "from ipyleaflet import Map, GeoJSON, WidgetControl\n",
    "import ipywidgets as widgets\n",
    "\n",
    "# Load shapefile\n",
    "world = gpd.read_file(\"./data/ne_110m_admin_0_countries/ne_110m_admin_0_countries.shp\")\n",
    "europe = world[world['CONTINENT'] == 'Europe']\n",
    "\n",
    "# Load OWID CO₂ data\n",
    "co2_df = pd.read_csv(\"https://github.com/owid/co2-data/raw/master/owid-co2-data.csv\")\n",
    "\n",
    "# Define a list of European countries\n",
    "european_countries = [\n",
    "    'Albania', 'Andorra', 'Armenia', 'Austria', 'Azerbaijan', 'Belarus', 'Belgium',\n",
    "    'Bosnia and Herzegovina', 'Bulgaria', 'Croatia', 'Cyprus', 'Czechia', 'Denmark',\n",
    "    'Estonia', 'Finland', 'France', 'Georgia', 'Germany', 'Greece', 'Hungary',\n",
    "    'Iceland', 'Ireland', 'Italy', 'Kazakhstan', 'Kosovo', 'Latvia', 'Liechtenstein',\n",
    "    'Lithuania', 'Luxembourg', 'Malta', 'Moldova', 'Monaco', 'Montenegro',\n",
    "    'Netherlands', 'North Macedonia', 'Norway', 'Poland', 'Portugal', 'Romania',\n",
    "    'Russia', 'San Marino', 'Serbia', 'Slovakia', 'Slovenia', 'Spain', 'Sweden',\n",
    "    'Switzerland', 'Turkey', 'Ukraine', 'United Kingdom', 'Vatican'\n",
    "]\n",
    "\n",
    "# Filter for European countries and years of interest\n",
    "europe_emissions_raw = co2_df[\n",
    "    (co2_df['country'].isin(european_countries)) &\n",
    "    (co2_df['year'].isin([2019, 2021]))\n",
    "]\n",
    "\n",
    "# Pivot to wide format: one row per country\n",
    "emissions_df = europe_emissions_raw.pivot(index='country', columns='year', values='co2').reset_index()\n",
    "emissions_df.columns = ['ADMIN', 'co2_2019', 'co2_2021']\n",
    "emissions_df = emissions_df.fillna(0)\n",
    "\n",
    "# Optional country name fixes (match shapefile naming)\n",
    "country_name_map = {\n",
    "    \"Czechia\": \"Czech Republic\",\n",
    "    \"Bosnia and Herzegovina\": \"Bosnia and Herz.\",\n",
    "    \"North Macedonia\": \"Macedonia\",\n",
    "    \"Slovakia\": \"Slovak Republic\",\n",
    "    \"Moldova\": \"Moldova\",\n",
    "    \"Russia\": \"Russian Federation\"\n",
    "}\n",
    "emissions_df['ADMIN'] = emissions_df['ADMIN'].replace(country_name_map)\n",
    "\n",
    "# Merge with shapefile data\n",
    "europe_emissions = europe.merge(emissions_df, how='left', on='ADMIN').fillna(0)\n",
    "\n",
    "# Define GeoJSON styling\n",
    "def get_geojson(year):\n",
    "    def style_callback(feature):\n",
    "        admin = feature['properties']['ADMIN']\n",
    "        value = emissions_df.loc[emissions_df['ADMIN'] == admin, f'co2_{year}'].values\n",
    "        emission = value[0] if len(value) else 0\n",
    "        intensity = min(emission / emissions_df[f'co2_{year}'].max(), 1.0)\n",
    "        color = f\"rgba(255, 0, 0, {intensity})\"\n",
    "        return {\n",
    "            'fillColor': color,\n",
    "            'color': 'black',\n",
    "            'weight': 1,\n",
    "            'fillOpacity': 0.6,\n",
    "        }\n",
    "\n",
    "    return GeoJSON(\n",
    "        data=europe_emissions.__geo_interface__,\n",
    "        style_callback=style_callback,\n",
    "        name=f\"CO₂ {year}\"\n",
    "    )\n",
    "\n",
    "# Create map and interactive controls\n",
    "center = [54.0, 15.0]\n",
    "m = Map(center=center, zoom=4)\n",
    "\n",
    "layer_ref = [get_geojson(\"2019\")]\n",
    "m.add_layer(layer_ref[0])\n",
    "\n",
    "dropdown = widgets.Dropdown(\n",
    "    options=[('2019 (Pre-Pandemic)', '2019'), ('2021 (Post-Pandemic)', '2021')],\n",
    "    value='2019',\n",
    "    description='Year:',\n",
    ")\n",
    "\n",
    "def on_change(change):\n",
    "    if change['type'] == 'change' and change['name'] == 'value':\n",
    "        m.remove_layer(layer_ref[0])\n",
    "        new_layer = get_geojson(change['new'])\n",
    "        m.add_layer(new_layer)\n",
    "        layer_ref[0] = new_layer\n",
    "\n",
    "dropdown.observe(on_change)\n",
    "\n",
    "control = WidgetControl(widget=dropdown, position='topright')\n",
    "m.add_control(control)\n",
    "\n",
    "m\n"
   ]
  }
 ],
 "metadata": {
  "kernelspec": {
   "display_name": "Python 3",
   "language": "python",
   "name": "python3"
  },
  "language_info": {
   "codemirror_mode": {
    "name": "ipython",
    "version": 3
   },
   "file_extension": ".py",
   "mimetype": "text/x-python",
   "name": "python",
   "nbconvert_exporter": "python",
   "pygments_lexer": "ipython3",
   "version": "3.10.15"
  }
 },
 "nbformat": 4,
 "nbformat_minor": 5
}
