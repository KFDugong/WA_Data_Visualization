{
 "cells": [
  {
   "cell_type": "code",
   "execution_count": null,
   "id": "24eada0b",
   "metadata": {},
   "outputs": [],
   "source": [
    "%pip install geopandas matplotlib plotly nbformat notebook ipywidgets ipyleaflet"
   ]
  },
  {
   "cell_type": "code",
   "execution_count": 7,
   "id": "77d0f10a",
   "metadata": {},
   "outputs": [
    {
     "name": "stderr",
     "output_type": "stream",
     "text": [
      "/var/folders/7z/jv8k1cd909v27l8ndwlg06g80000gn/T/ipykernel_97654/517191505.py:22: FutureWarning: Downcasting object dtype arrays on .fillna, .ffill, .bfill is deprecated and will change in a future version. Call result.infer_objects(copy=False) instead. To opt-in to the future behavior, set `pd.set_option('future.no_silent_downcasting', True)`\n",
      "  europe_emissions = europe.merge(emissions_df, how='left', on='ADMIN').fillna(0)\n"
     ]
    },
    {
     "data": {
      "application/vnd.jupyter.widget-view+json": {
       "model_id": "e7c128f839b04a52b1fa3f6862273ca6",
       "version_major": 2,
       "version_minor": 0
      },
      "text/plain": [
       "Map(center=[54.0, 15.0], controls=(ZoomControl(options=['position', 'zoom_in_text', 'zoom_in_title', 'zoom_out…"
      ]
     },
     "execution_count": 7,
     "metadata": {},
     "output_type": "execute_result"
    }
   ],
   "source": [
    "import geopandas as gpd\n",
    "import pandas as pd\n",
    "from ipyleaflet import Map, GeoJSON, WidgetControl\n",
    "import ipywidgets as widgets\n",
    "\n",
    "# Load shapefile\n",
    "world = gpd.read_file(\"./data/ne_110m_admin_0_countries/ne_110m_admin_0_countries.shp\")\n",
    "\n",
    "# Filter Europe\n",
    "europe = world[world['CONTINENT'] == 'Europe']\n",
    "\n",
    "# CO₂ emissions\n",
    "emission_data = {\n",
    "    'ADMIN': [\n",
    "        'Germany', 'France', 'United Kingdom', 'Italy', 'Spain',\n",
    "        'Poland', 'Netherlands', 'Belgium', 'Sweden', 'Austria'\n",
    "    ],\n",
    "    'co2_2019': [750, 340, 380, 320, 270, 320, 170, 120, 45, 65],\n",
    "    'co2_2021': [670, 310, 340, 300, 250, 290, 160, 110, 44, 63]\n",
    "}\n",
    "emissions_df = pd.DataFrame(emission_data)\n",
    "europe_emissions = europe.merge(emissions_df, how='left', on='ADMIN').fillna(0)\n",
    "\n",
    "def get_geojson(year):\n",
    "    def style_callback(feature):\n",
    "        admin = feature['properties']['ADMIN']\n",
    "        value = emissions_df.loc[emissions_df['ADMIN'] == admin, f'co2_{year}'].values\n",
    "        emission = value[0] if len(value) else 0\n",
    "        intensity = min(emission / 750, 1.0)\n",
    "        color = f\"rgba(255, 0, 0, {intensity})\"\n",
    "        return {\n",
    "            'fillColor': color,\n",
    "            'color': 'black',\n",
    "            'weight': 1,\n",
    "            'fillOpacity': 0.6,\n",
    "        }\n",
    "\n",
    "    return GeoJSON(\n",
    "        data=europe_emissions.__geo_interface__,\n",
    "        style_callback=style_callback,\n",
    "        name=f\"CO₂ {year}\"\n",
    "    )\n",
    "\n",
    "\n",
    "# Map setup\n",
    "center = [54.0, 15.0]\n",
    "m = Map(center=center, zoom=4)\n",
    "\n",
    "# Initial GeoJSON layer\n",
    "layer = get_geojson(\"2019\")\n",
    "m.add_layer(layer)\n",
    "\n",
    "# Dropdown widget to switch year\n",
    "dropdown = widgets.Dropdown(\n",
    "    options=[('2019 (Pre-Pandemic)', '2019'), ('2021 (Post-Pandemic)', '2021')],\n",
    "    value='2019',\n",
    "    description='Year:',\n",
    ")\n",
    "\n",
    "# Initial GeoJSON layer in a mutable container\n",
    "layer_ref = [get_geojson(\"2019\")]\n",
    "m.add_layer(layer_ref[0])\n",
    "\n",
    "# Dropdown callback\n",
    "def on_change(change):\n",
    "    if change['type'] == 'change' and change['name'] == 'value':\n",
    "        m.remove_layer(layer_ref[0])\n",
    "        new_layer = get_geojson(change['new'])\n",
    "        m.add_layer(new_layer)\n",
    "        layer_ref[0] = new_layer\n",
    "\n",
    "\n",
    "dropdown.observe(on_change)\n",
    "\n",
    "control = WidgetControl(widget=dropdown, position='topright')\n",
    "m.add_control(control)\n",
    "\n",
    "m\n"
   ]
  }
 ],
 "metadata": {
  "kernelspec": {
   "display_name": "Python 3",
   "language": "python",
   "name": "python3"
  },
  "language_info": {
   "codemirror_mode": {
    "name": "ipython",
    "version": 3
   },
   "file_extension": ".py",
   "mimetype": "text/x-python",
   "name": "python",
   "nbconvert_exporter": "python",
   "pygments_lexer": "ipython3",
   "version": "3.10.15"
  }
 },
 "nbformat": 4,
 "nbformat_minor": 5
}
